{
 "cells": [
  {
   "cell_type": "code",
   "execution_count": 1,
   "id": "4b521650",
   "metadata": {},
   "outputs": [
    {
     "name": "stdout",
     "output_type": "stream",
     "text": [
      "None\n"
     ]
    }
   ],
   "source": [
    "import numpy as np\n",
    "#Q1\n",
    "def my_func(x1,x2,x3):\n",
    "    if type(x1)!=float:\n",
    "        if type(x1)==str:\n",
    "                return print(\"None\")\n",
    "        return print(\"Error: parameters should be float\")\n",
    "    if type(x2)!=float:\n",
    "        if type(x2)==str:\n",
    "                return print(\"None\")\n",
    "        return print(\"Error: parameters should be float\")\n",
    "    if type(x3)!=float:\n",
    "        if type(x3)==str:\n",
    "                return print(\"None\")\n",
    "        return print(\"Error: parameters should be float\")\n",
    "    if (x1+x2+x3)==0:\n",
    "        return print(\"Not a number – denominator equals zero\")\n",
    "    return ((x1+x2+x3)*((x2+x3)*x3))/((x1+x2+x3))\n",
    "\n",
    "my_func(1.0,2.0,\"one\")\n"
   ]
  },
  {
   "cell_type": "markdown",
   "id": "67a69ce3",
   "metadata": {},
   "source": [
    "### "
   ]
  },
  {
   "cell_type": "code",
   "execution_count": 2,
   "id": "846c52c5",
   "metadata": {},
   "outputs": [
    {
     "data": {
      "text/plain": [
       "1"
      ]
     },
     "execution_count": 2,
     "metadata": {},
     "output_type": "execute_result"
    }
   ],
   "source": [
    "#Q2\n",
    "def revword(word:str):\n",
    "    word=word.lower()\n",
    "    new_word=word[::-1]\n",
    "    return new_word\n",
    "\n",
    "def countword():\n",
    "    handle=open(\"text.txt\")\n",
    "    a=[]\n",
    "    counter=1\n",
    "    for line in handle:\n",
    "        lineWords = line.rstrip()\n",
    "        a.append(revword(lineWords))\n",
    "    word=revword(a[0])\n",
    "    counter=1\n",
    "    for i in a:\n",
    "        if i==word:\n",
    "            counter=counter+1\n",
    "    return(counter)\n",
    " \n",
    "countword()        \n",
    "        \n",
    "    \n"
   ]
  },
  {
   "cell_type": "code",
   "execution_count": null,
   "id": "6ebe238e",
   "metadata": {},
   "outputs": [],
   "source": []
  }
 ],
 "metadata": {
  "kernelspec": {
   "display_name": "Python 3 (ipykernel)",
   "language": "python",
   "name": "python3"
  },
  "language_info": {
   "codemirror_mode": {
    "name": "ipython",
    "version": 3
   },
   "file_extension": ".py",
   "mimetype": "text/x-python",
   "name": "python",
   "nbconvert_exporter": "python",
   "pygments_lexer": "ipython3",
   "version": "3.9.13"
  }
 },
 "nbformat": 4,
 "nbformat_minor": 5
}
